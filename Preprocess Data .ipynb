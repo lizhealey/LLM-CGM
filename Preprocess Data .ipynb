{
 "cells": [
  {
   "cell_type": "code",
   "execution_count": null,
   "id": "01ba0702",
   "metadata": {},
   "outputs": [],
   "source": [
    "import pandas as pd\n",
    "import numpy as np\n",
    "import matplotlib.pyplot as plt\n",
    "import copy\n",
    "import glob"
   ]
  },
  {
   "cell_type": "markdown",
   "id": "c6c6251f",
   "metadata": {},
   "source": [
    "## Save Data"
   ]
  },
  {
   "cell_type": "code",
   "execution_count": null,
   "id": "69033b2c",
   "metadata": {},
   "outputs": [],
   "source": [
    "# Takes in data as dataframe and saves it as CSV with appropriate columns\n",
    "def preprocess_cgm(data, cgm_column, time_column):\n",
    "    data['CGM']=data[cgm_column]\n",
    "    data['Time']=data[time_column]\n",
    "    data.to_csv(f'data.csv')\n",
    "    return data "
   ]
  }
 ],
 "metadata": {
  "kernelspec": {
   "display_name": "Python [conda env:ODE_env]",
   "language": "python",
   "name": "conda-env-ODE_env-py"
  },
  "language_info": {
   "codemirror_mode": {
    "name": "ipython",
    "version": 3
   },
   "file_extension": ".py",
   "mimetype": "text/x-python",
   "name": "python",
   "nbconvert_exporter": "python",
   "pygments_lexer": "ipython3",
   "version": "3.9.15"
  }
 },
 "nbformat": 4,
 "nbformat_minor": 5
}
